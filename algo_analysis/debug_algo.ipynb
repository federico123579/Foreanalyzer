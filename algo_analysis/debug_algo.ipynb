{
 "cells": [
  {
   "cell_type": "code",
   "execution_count": 1,
   "metadata": {},
   "outputs": [],
   "source": [
    "import pandas as pd\n",
    "\n",
    "from foreanalyzer.algo_modules.boll_bands_1 import BolligerBands1\n",
    "import foreanalyzer._internal_utils as internal"
   ]
  },
  {
   "cell_type": "code",
   "execution_count": 2,
   "metadata": {},
   "outputs": [
    {
     "name": "stderr",
     "output_type": "stream",
     "text": [
      "2019-08-27 14:26:36 - DEBUG - foreanalyzer.internal - read config\n",
      "2019-08-27 14:26:36 - DEBUG - foreanalyzer.internal - read config\n",
      "2019-08-27 14:26:36 - DEBUG - foreanalyzer.algo - BaseAlgorithm inited\n",
      "2019-08-27 14:26:36 - DEBUG - foreanalyzer.data - EURUSD_2000000 pickle found\n",
      "2019-08-27 14:26:36 - DEBUG - foreanalyzer.algo - setting BOLL for EURUSD\n",
      "2019-08-27 14:26:36 - DEBUG - foreanalyzer.algo_components - Bolliger Bands inited period: 20 timeframe: 3600 multiplier: 2\n",
      "2019-08-27 14:26:36 - DEBUG - foreanalyzer.algo - executing BollBands_20 for CURRENCY.EURUSD\n",
      "2019-08-27 14:26:36 - DEBUG - foreanalyzer.algo_components - reduced to 34487 as 3600s timeframe\n",
      "2019-08-27 14:26:38 - DEBUG - foreanalyzer.algo_components - BolligerBands submitted\n",
      "2019-08-27 14:26:38 - DEBUG - foreanalyzer.algo - BaseAlgorithm setup\n",
      "2019-08-27 14:26:38 - DEBUG - foreanalyzer.algo_components - BolligerBands reindexed\n",
      "2019-08-27 14:26:39 - DEBUG - foreanalyzer.algo - got 5874 raw signals\n",
      "2019-08-27 14:26:39 - DEBUG - foreanalyzer.algo - Signals reduced to 758\n",
      "2019-08-27 14:26:39 - DEBUG - foreanalyzer.algo - Signals reduced to 717\n",
      "2019-08-27 14:26:39 - DEBUG - foreanalyzer.algo - got a total of 1475 true signals\n"
     ]
    }
   ],
   "source": [
    "algo = BolligerBands1()\n",
    "algo.setup()\n",
    "op_signals = algo.get_open_signals(algo.currencies[0])\n",
    "currency = algo.currencies[0]"
   ]
  },
  {
   "cell_type": "code",
   "execution_count": 3,
   "metadata": {},
   "outputs": [
    {
     "data": {
      "text/plain": [
       "open                 1.312200\n",
       "high                 1.312800\n",
       "low                  1.312200\n",
       "close                1.312600\n",
       "BollBands_20_up      1.310738\n",
       "BollBands_20_down    1.303918\n",
       "BollBands_20_ma      1.307328\n",
       "Name: 2013-05-03 09:00:00, dtype: float64"
      ]
     },
     "execution_count": 3,
     "metadata": {},
     "output_type": "execute_result"
    }
   ],
   "source": [
    "df_obj = algo.dataframes[currency]\n",
    "df = df_obj.resample(algo.update_freq).dropna()\n",
    "datetime , mode = [(datetime, mode) for datetime, mode in op_signals.iteritems()][0]\n",
    "datetime_range = df.loc[datetime:]\n",
    "op_signal = df.loc[datetime]\n",
    "algo._close_long_signal_formula(datetime_range, op_signal, df_obj)"
   ]
  },
  {
   "cell_type": "code",
   "execution_count": 1,
   "metadata": {},
   "outputs": [
    {
     "name": "stderr",
     "output_type": "stream",
     "text": [
      "2019-08-27 14:27:48 - DEBUG - foreanalyzer.internal - read config\n",
      "2019-08-27 14:27:48 - DEBUG - XTBApi.api - BaseClient inited\n",
      "2019-08-27 14:27:48 - INFO - XTBApi.api.Client - Client inited\n",
      "2019-08-27 14:27:48 - DEBUG - foreanalyzer.account - Account inited\n"
     ]
    }
   ],
   "source": [
    "from foreanalyzer.engine import Engine\n",
    "e = Engine()"
   ]
  },
  {
   "cell_type": "code",
   "execution_count": 8,
   "metadata": {},
   "outputs": [
    {
     "name": "stderr",
     "output_type": "stream",
     "text": [
      "2019-08-27 14:28:38 - DEBUG - foreanalyzer.internal - read config\n",
      "2019-08-27 14:28:38 - DEBUG - foreanalyzer.internal - read config\n",
      "2019-08-27 14:28:38 - DEBUG - foreanalyzer.algo - BaseAlgorithm inited\n",
      "2019-08-27 14:28:38 - DEBUG - foreanalyzer.data - EURUSD_2000000 pickle found\n",
      "2019-08-27 14:28:38 - DEBUG - foreanalyzer.algo - setting BOLL for EURUSD\n",
      "2019-08-27 14:28:38 - DEBUG - foreanalyzer.algo_components - Bolliger Bands inited period: 20 timeframe: 3600 multiplier: 2\n",
      "2019-08-27 14:28:38 - DEBUG - foreanalyzer.algo - executing BollBands_20 for CURRENCY.EURUSD\n",
      "2019-08-27 14:28:39 - DEBUG - foreanalyzer.algo_components - reduced to 34487 as 3600s timeframe\n",
      "2019-08-27 14:28:40 - DEBUG - foreanalyzer.algo_components - BolligerBands submitted\n",
      "2019-08-27 14:28:40 - DEBUG - foreanalyzer.algo - BaseAlgorithm setup\n"
     ]
    }
   ],
   "source": [
    "e.algos[0]().setup()"
   ]
  },
  {
   "cell_type": "code",
   "execution_count": null,
   "metadata": {},
   "outputs": [],
   "source": []
  }
 ],
 "metadata": {
  "kernelspec": {
   "display_name": "env",
   "language": "python",
   "name": "env"
  },
  "language_info": {
   "codemirror_mode": {
    "name": "ipython",
    "version": 3
   },
   "file_extension": ".py",
   "mimetype": "text/x-python",
   "name": "python",
   "nbconvert_exporter": "python",
   "pygments_lexer": "ipython3",
   "version": "3.6.8"
  }
 },
 "nbformat": 4,
 "nbformat_minor": 2
}
