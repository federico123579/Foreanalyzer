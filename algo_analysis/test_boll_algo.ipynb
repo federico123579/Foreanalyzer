{
 "cells": [
  {
   "cell_type": "code",
   "execution_count": 1,
   "metadata": {},
   "outputs": [],
   "source": [
    "import os\n",
    "import pickle\n",
    "\n",
    "import pandas as pd\n",
    "\n",
    "from foreanalyzer._internal_utils import OUTER_FOLDER_PATH"
   ]
  },
  {
   "cell_type": "code",
   "execution_count": 15,
   "metadata": {
    "scrolled": false
   },
   "outputs": [],
   "source": [
    "path1 = os.path.join(OUTER_FOLDER_PATH)\n",
    "file_path1_1 = os.path.join(path1, 'algo.pickle')\n",
    "file_path1_2 = os.path.join(path1, 'profit_dataframe.pickle')\n",
    "path2 = os.path.join(OUTER_FOLDER_PATH, 'algo_analysis', 'v2', 'EURUSD')\n",
    "file_path2_1 = os.path.join(path2, 'algo.pickle')\n",
    "file_path2_2 = os.path.join(path2, 'profit_dataframe.pickle')\n",
    "path3 = os.path.join(OUTER_FOLDER_PATH, 'algo_analysis', 'v4', 'EURUSD')\n",
    "file_path3_1 = os.path.join(path3, 'algo.pickle')\n",
    "file_path3_2 = os.path.join(path3, 'profit_dataframe.pickle')"
   ]
  },
  {
   "cell_type": "code",
   "execution_count": 22,
   "metadata": {},
   "outputs": [],
   "source": [
    "# profit analysis for 10000000 - a10482e\n",
    "with open(file_path1_2, 'rb') as f:\n",
    "    data1_2 = pickle.load(f)"
   ]
  },
  {
   "cell_type": "code",
   "execution_count": 23,
   "metadata": {},
   "outputs": [
    {
     "data": {
      "text/html": [
       "<div>\n",
       "<style scoped>\n",
       "    .dataframe tbody tr th:only-of-type {\n",
       "        vertical-align: middle;\n",
       "    }\n",
       "\n",
       "    .dataframe tbody tr th {\n",
       "        vertical-align: top;\n",
       "    }\n",
       "\n",
       "    .dataframe thead th {\n",
       "        text-align: right;\n",
       "    }\n",
       "</style>\n",
       "<table border=\"1\" class=\"dataframe\">\n",
       "  <thead>\n",
       "    <tr style=\"text-align: right;\">\n",
       "      <th></th>\n",
       "      <th>close_datetime</th>\n",
       "      <th>mode</th>\n",
       "      <th>open_price</th>\n",
       "      <th>close_price</th>\n",
       "      <th>profit</th>\n",
       "      <th>balance</th>\n",
       "      <th>width</th>\n",
       "    </tr>\n",
       "    <tr>\n",
       "      <th>open_datetime</th>\n",
       "      <th></th>\n",
       "      <th></th>\n",
       "      <th></th>\n",
       "      <th></th>\n",
       "      <th></th>\n",
       "      <th></th>\n",
       "      <th></th>\n",
       "    </tr>\n",
       "  </thead>\n",
       "  <tbody>\n",
       "    <tr>\n",
       "      <th>2019-11-11 12:39:00+01:00</th>\n",
       "      <td>2019-11-11 13:05:00+01:00</td>\n",
       "      <td>0</td>\n",
       "      <td>1.10281</td>\n",
       "      <td>1.10269</td>\n",
       "      <td>-4.2</td>\n",
       "      <td>99995.8</td>\n",
       "      <td>0.777585</td>\n",
       "    </tr>\n",
       "    <tr>\n",
       "      <th>2019-11-18 14:00:00+01:00</th>\n",
       "      <td>2019-11-18 14:11:00+01:00</td>\n",
       "      <td>0</td>\n",
       "      <td>1.10572</td>\n",
       "      <td>1.10600</td>\n",
       "      <td>3.8</td>\n",
       "      <td>99999.6</td>\n",
       "      <td>1.118209</td>\n",
       "    </tr>\n",
       "  </tbody>\n",
       "</table>\n",
       "</div>"
      ],
      "text/plain": [
       "                                     close_datetime  mode  open_price  \\\n",
       "open_datetime                                                           \n",
       "2019-11-11 12:39:00+01:00 2019-11-11 13:05:00+01:00     0     1.10281   \n",
       "2019-11-18 14:00:00+01:00 2019-11-18 14:11:00+01:00     0     1.10572   \n",
       "\n",
       "                           close_price  profit  balance     width  \n",
       "open_datetime                                                      \n",
       "2019-11-11 12:39:00+01:00      1.10269    -4.2  99995.8  0.777585  \n",
       "2019-11-18 14:00:00+01:00      1.10600     3.8  99999.6  1.118209  "
      ]
     },
     "execution_count": 23,
     "metadata": {},
     "output_type": "execute_result"
    }
   ],
   "source": [
    "# monthly income analysis\n",
    "#data1_2[(data1_2.index.month == 5) & (data1_2.index.year == 2018)]['profit']\n",
    "data1_2['profit'] = data1_2['profit'].apply(lambda x: round(x, 2))\n",
    "negatives = data1_2[data1_2['profit'] < 0]\n",
    "positives = data1_2[data1_2['profit'] > 0]\n",
    "negatives[negatives['profit'] < 0]\n",
    "data1_2[-20:]"
   ]
  },
  {
   "cell_type": "code",
   "execution_count": null,
   "metadata": {
    "scrolled": true
   },
   "outputs": [],
   "source": [
    "# testing calculated profit\n",
    "en = data1_2.iloc[0:100].copy()\n",
    "en1 = en[en['mode'] == 0]\n",
    "pred1 = data=(en1['close_price'] - en1['open_price']) * 0.09 * 100000\n",
    "en2 = en[en['mode'] == 1]\n",
    "pred2 = -(en2['close_price'] - en2['open_price']) * 0.09 * 100000\n",
    "en1_1 = pd.concat([en1, pred1], axis=1)\n",
    "0.9 * en1_1[0] - en1_1['profit']"
   ]
  },
  {
   "cell_type": "code",
   "execution_count": 19,
   "metadata": {},
   "outputs": [
    {
     "data": {
      "text/plain": [
       "True"
      ]
     },
     "execution_count": 19,
     "metadata": {},
     "output_type": "execute_result"
    }
   ],
   "source": [
    "(1 == 1) & (1 in [1, 2]) & (3 == 3)"
   ]
  },
  {
   "cell_type": "code",
   "execution_count": null,
   "metadata": {},
   "outputs": [],
   "source": []
  }
 ],
 "metadata": {
  "file_extension": ".py",
  "kernelspec": {
   "display_name": "foreanalyzer",
   "language": "python",
   "name": "foreanalyzer"
  },
  "language_info": {
   "codemirror_mode": {
    "name": "ipython",
    "version": 3
   },
   "file_extension": ".py",
   "mimetype": "text/x-python",
   "name": "python",
   "nbconvert_exporter": "python",
   "pygments_lexer": "ipython3",
   "version": "3.7.2"
  },
  "mimetype": "text/x-python",
  "name": "python",
  "npconvert_exporter": "python",
  "pygments_lexer": "ipython3",
  "version": 3
 },
 "nbformat": 4,
 "nbformat_minor": 2
}
